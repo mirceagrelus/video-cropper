{
 "cells": [
  {
   "cell_type": "markdown",
   "metadata": {},
   "source": [
    "# Video Cropping\n",
    "\n",
    "Contains 2 sections\n",
    "1. Exploration - where interactively you can pick the correct dimensions for cropping.\n",
    "2. Cropping the video according to the configured dimensions."
   ]
  },
  {
   "cell_type": "code",
   "execution_count": 39,
   "metadata": {},
   "outputs": [],
   "source": [
    "import subprocess"
   ]
  },
  {
   "cell_type": "markdown",
   "metadata": {},
   "source": [
    "**Declare variables**\n",
    "- `input_video` = source video file location\n",
    "- `ouptut_video` = output location for cropped video\n",
    "-  `crop_dimension` = width:height dimension for cropped video. It will be center cropped. Use the `input_video_size_info` command to get info about the width / height size of the `input_video`"
   ]
  },
  {
   "cell_type": "code",
   "execution_count": 40,
   "metadata": {},
   "outputs": [
    {
     "name": "stdout",
     "output_type": "stream",
     "text": [
      "[STREAM]\n",
      "width=4096\n",
      "height=1212\n",
      "[/STREAM]\n"
     ]
    }
   ],
   "source": [
    "# specify input video, and output path\n",
    "input_video = \"./data/RWPro_input.mp4\"\n",
    "ouptut_video = \"./data/RWPro_final.mp4\"\n",
    "\n",
    "# displays width and height dimensions of the input video\n",
    "input_video_size_info = [\n",
    "    'ffprobe', '-v', 'error', '-select_streams', 'v:0',\n",
    "    '-show_entries', 'stream=width,height', input_video\n",
    "]\n",
    "try:\n",
    "    subprocess.run(input_video_size_info, check=True)\n",
    "except:\n",
    "    pass"
   ]
  },
  {
   "cell_type": "markdown",
   "metadata": {},
   "source": [
    "# #1. Exploration\n",
    "\n",
    "### Explore video crop dimensions\n",
    "This will start a player with video cropped to the specified dimemsion.\n",
    "\n",
    "`crop_dimension` format is `WIDTH:HEIGHT`. \n",
    "\n",
    "Tip: keep height same as orignal video and crop width for the general problem of wide video area."
   ]
  },
  {
   "cell_type": "code",
   "execution_count": null,
   "metadata": {},
   "outputs": [],
   "source": [
    "# specify the dimensions to crop to. WIDTH:HEIGHT\n",
    "crop_dimension = \"2000:1212\"\n",
    "\n",
    "explore_crop_dimensions = [\n",
    "    'ffplay', '-i', input_video,\n",
    "    '-vf', f'crop={crop_dimension}'\n",
    "]\n",
    "try:\n",
    "    subprocess.run(explore_crop_dimensions, check=True)\n",
    "except subprocess.CalledProcessError as e:\n",
    "    pass"
   ]
  },
  {
   "cell_type": "markdown",
   "metadata": {},
   "source": [
    "### Explore speaker head dimensions\n",
    "Starts a player where you can test the correct dimensions for the speaker's head."
   ]
  },
  {
   "cell_type": "code",
   "execution_count": null,
   "metadata": {},
   "outputs": [],
   "source": [
    "# specify dimensions for speaker's head. Format: WIDTH:HEIGHT:X:Y\n",
    "# X, Y in graphics coordinates: 0.0 point is top, left.\n",
    "speaker_head_dimensions = \"320:180:3776:0\"\n",
    "\n",
    "explore_speaker_coordinates = [\n",
    "    'ffplay', '-i', input_video,\n",
    "    '-vf', f'crop={speaker_head_dimensions}'\n",
    "]\n",
    "try:\n",
    "    subprocess.run(explore_speaker_coordinates, check=True)\n",
    "except subprocess.CalledProcessError as e:\n",
    "    pass"
   ]
  },
  {
   "cell_type": "markdown",
   "metadata": {},
   "source": [
    "# #2. Create final video. Merge cropped video with speaker's head video.\n",
    "\n",
    "Switch `testing` to `True` to only process just 5 minutes of video.\n",
    "\n",
    "Overlay formats:\n",
    "- `overlay=W-w:0`: top right corner.\n",
    "- `overlay=W-w-10:H-h-10`: bototm right corner with 10px spacing.\n",
    "\n",
    "`W`, `H` - represents width / height of first caption (`cropped`)\n",
    "\n",
    "`w`, `h`- represents width / height of second caption (`face`)"
   ]
  },
  {
   "cell_type": "code",
   "execution_count": 41,
   "metadata": {},
   "outputs": [
    {
     "name": "stderr",
     "output_type": "stream",
     "text": [
      "ffmpeg version 7.1 Copyright (c) 2000-2024 the FFmpeg developers\n",
      "  built with Apple clang version 16.0.0 (clang-1600.0.26.3)\n",
      "  configuration: --prefix=/opt/homebrew/Cellar/ffmpeg/7.1 --enable-shared --enable-pthreads --enable-version3 --cc=clang --host-cflags= --host-ldflags='-Wl,-ld_classic' --enable-ffplay --enable-gnutls --enable-gpl --enable-libaom --enable-libaribb24 --enable-libbluray --enable-libdav1d --enable-libharfbuzz --enable-libjxl --enable-libmp3lame --enable-libopus --enable-librav1e --enable-librist --enable-librubberband --enable-libsnappy --enable-libsrt --enable-libssh --enable-libsvtav1 --enable-libtesseract --enable-libtheora --enable-libvidstab --enable-libvmaf --enable-libvorbis --enable-libvpx --enable-libwebp --enable-libx264 --enable-libx265 --enable-libxml2 --enable-libxvid --enable-lzma --enable-libfontconfig --enable-libfreetype --enable-frei0r --enable-libass --enable-libopencore-amrnb --enable-libopencore-amrwb --enable-libopenjpeg --enable-libspeex --enable-libsoxr --enable-libzmq --enable-libzimg --disable-libjack --disable-indev=jack --enable-videotoolbox --enable-audiotoolbox --enable-neon\n",
      "  libavutil      59. 39.100 / 59. 39.100\n",
      "  libavcodec     61. 19.100 / 61. 19.100\n",
      "  libavformat    61.  7.100 / 61.  7.100\n",
      "  libavdevice    61.  3.100 / 61.  3.100\n",
      "  libavfilter    10.  4.100 / 10.  4.100\n",
      "  libswscale      8.  3.100 /  8.  3.100\n",
      "  libswresample   5.  3.100 /  5.  3.100\n",
      "  libpostproc    58.  3.100 / 58.  3.100\n",
      "Input #0, mov,mp4,m4a,3gp,3g2,mj2, from './data/RWPro_input.mp4':\n",
      "  Metadata:\n",
      "    major_brand     : isom\n",
      "    minor_version   : 512\n",
      "    compatible_brands: isomiso2avc1mp41\n",
      "    encoder         : Lavf61.7.100\n",
      "  Duration: 00:02:03.12, start: 0.000000, bitrate: 761 kb/s\n",
      "  Stream #0:0[0x1](und): Video: h264 (High) (avc1 / 0x31637661), yuv420p(tv, bt709, progressive), 4096x1212, 563 kb/s, 25 fps, 25 tbr, 12800 tbn (default)\n",
      "      Metadata:\n",
      "        handler_name    : Vimeo Isopod Video Handler\n",
      "        vendor_id       : [0][0][0][0]\n",
      "        encoder         : AVC Coding\n",
      "  Stream #0:1[0x2](und): Audio: aac (LC) (mp4a / 0x6134706D), 48000 Hz, mono, fltp, 189 kb/s (default)\n",
      "      Metadata:\n",
      "        handler_name    : Vimeo Isopod Audio Handler\n",
      "        vendor_id       : [0][0][0][0]\n",
      "Stream mapping:\n",
      "  Stream #0:0 (h264) -> crop:default\n",
      "  Stream #0:0 (h264) -> crop:default\n",
      "  overlay:default -> Stream #0:0 (libx264)\n",
      "  Stream #0:1 -> #0:1 (copy)\n",
      "Press [q] to stop, [?] for help\n",
      "[libx264 @ 0x12c105330] using cpu capabilities: ARMv8 NEON\n",
      "[libx264 @ 0x12c105330] profile High, level 5.0, 4:2:0, 8-bit\n",
      "[libx264 @ 0x12c105330] 264 - core 164 r3108 31e19f9 - H.264/MPEG-4 AVC codec - Copyleft 2003-2023 - http://www.videolan.org/x264.html - options: cabac=1 ref=3 deblock=1:0:0 analyse=0x3:0x113 me=hex subme=7 psy=1 psy_rd=1.00:0.00 mixed_ref=1 me_range=16 chroma_me=1 trellis=1 8x8dct=1 cqm=0 deadzone=21,11 fast_pskip=1 chroma_qp_offset=-2 threads=15 lookahead_threads=2 sliced_threads=0 nr=0 decimate=1 interlaced=0 bluray_compat=0 constrained_intra=0 bframes=3 b_pyramid=2 b_adapt=1 b_bias=0 direct=1 weightb=1 open_gop=0 weightp=2 keyint=250 keyint_min=25 scenecut=40 intra_refresh=0 rc_lookahead=40 rc=crf mbtree=1 crf=23.0 qcomp=0.60 qpmin=0 qpmax=69 qpstep=4 ip_ratio=1.40 aq=1:1.00\n",
      "Output #0, mp4, to './data/final_output.mp4':\n",
      "  Metadata:\n",
      "    major_brand     : isom\n",
      "    minor_version   : 512\n",
      "    compatible_brands: isomiso2avc1mp41\n",
      "    encoder         : Lavf61.7.100\n",
      "  Stream #0:0: Video: h264 (avc1 / 0x31637661), yuv420p(tv, bt709, progressive), 2000x1212, q=2-31, 25 fps, 12800 tbn\n",
      "      Metadata:\n",
      "        encoder         : Lavc61.19.100 libx264\n",
      "      Side data:\n",
      "        cpb: bitrate max/min/avg: 0/0/0 buffer size: 0 vbv_delay: N/A\n",
      "  Stream #0:1(und): Audio: aac (LC) (mp4a / 0x6134706D), 48000 Hz, mono, fltp, 189 kb/s (default)\n",
      "      Metadata:\n",
      "        handler_name    : Vimeo Isopod Audio Handler\n",
      "        vendor_id       : [0][0][0][0]\n",
      "[out#0/mp4 @ 0x12c104120] video:3215KiB audio:2857KiB subtitle:0KiB other streams:0KiB global headers:0KiB muxing overhead: 1.533512%\n",
      "frame= 3078 fps=261 q=-1.0 Lsize=    6165KiB time=00:02:03.01 bitrate= 410.5kbits/s speed=10.4x    \n",
      "[libx264 @ 0x12c105330] frame I:13    Avg QP:15.77  size:109944\n",
      "[libx264 @ 0x12c105330] frame P:777   Avg QP:19.31  size:  1609\n",
      "[libx264 @ 0x12c105330] frame B:2288  Avg QP:25.33  size:   267\n",
      "[libx264 @ 0x12c105330] consecutive B-frames:  0.8%  0.1%  0.2% 98.9%\n",
      "[libx264 @ 0x12c105330] mb I  I16..4: 42.1% 22.9% 35.0%\n",
      "[libx264 @ 0x12c105330] mb P  I16..4:  0.1%  0.1%  0.1%  P16..4:  1.6%  0.4%  0.2%  0.0%  0.0%    skip:97.5%\n",
      "[libx264 @ 0x12c105330] mb B  I16..4:  0.0%  0.0%  0.0%  B16..8:  0.9%  0.1%  0.0%  direct: 0.0%  skip:99.0%  L0:41.0% L1:54.1% BI: 4.9%\n",
      "[libx264 @ 0x12c105330] 8x8 transform intra:25.0% inter:59.4%\n",
      "[libx264 @ 0x12c105330] coded y,uvDC,uvAC intra: 30.1% 15.4% 9.9% inter: 0.2% 0.2% 0.0%\n",
      "[libx264 @ 0x12c105330] i16 v,h,dc,p: 23% 73%  2%  2%\n",
      "[libx264 @ 0x12c105330] i8 v,h,dc,ddl,ddr,vr,hd,vl,hu: 33% 13% 46%  1%  1%  1%  1%  1%  2%\n",
      "[libx264 @ 0x12c105330] i4 v,h,dc,ddl,ddr,vr,hd,vl,hu: 40% 37% 10%  2%  2%  2%  2%  2%  2%\n",
      "[libx264 @ 0x12c105330] i8c dc,h,v,p: 78%  9% 11%  1%\n",
      "[libx264 @ 0x12c105330] Weighted P-Frames: Y:0.0% UV:0.0%\n",
      "[libx264 @ 0x12c105330] ref P L0: 79.2%  9.0%  8.7%  3.1%\n",
      "[libx264 @ 0x12c105330] ref B L0: 86.6% 12.2%  1.2%\n",
      "[libx264 @ 0x12c105330] ref B L1: 95.5%  4.5%\n",
      "[libx264 @ 0x12c105330] kb/s:213.84\n"
     ]
    }
   ],
   "source": [
    "# testing = True - means only process first 5 minutes of video.\n",
    "testing = False\n",
    "\n",
    "merge_videos_command = [\n",
    "    'ffmpeg', '-y', '-i', input_video, '-filter_complex',\n",
    "    f'[0:v]crop={crop_dimension}[cropped], [0:v]crop={speaker_head_dimensions}[face]; [cropped][face] overlay=W-w:0',\n",
    "    '-c:a', 'copy', ouptut_video\n",
    "    ]\n",
    "\n",
    "if testing:\n",
    "    merge_videos_command.insert(-3, '-t')\n",
    "    merge_videos_command.insert(-3, '300')\n",
    "\n",
    "# print(\" \".join(merge_videos_command))\n",
    "\n",
    "try:\n",
    "    subprocess.run(merge_videos_command, check=True)\n",
    "except subprocess.CalledProcessError as e:\n",
    "    pass"
   ]
  },
  {
   "cell_type": "markdown",
   "metadata": {},
   "source": [
    "---\n",
    "### [Alternative] If you only want to crop the main video, without including the speaker head."
   ]
  },
  {
   "cell_type": "code",
   "execution_count": null,
   "metadata": {},
   "outputs": [],
   "source": [
    "\n",
    "crop_video_command = [\n",
    "    'ffmpeg', '-i', input_video,\n",
    "    '-filter:v', f'crop={crop_dimension}',\n",
    "    '-c:a', 'copy', ouptut_video\n",
    "]\n",
    "try:\n",
    "    subprocess.run(crop_video_command, check=True)\n",
    "except subprocess.CalledProcessError as e:\n",
    "    pass"
   ]
  }
 ],
 "metadata": {
  "kernelspec": {
   "display_name": "base",
   "language": "python",
   "name": "python3"
  },
  "language_info": {
   "codemirror_mode": {
    "name": "ipython",
    "version": 3
   },
   "file_extension": ".py",
   "mimetype": "text/x-python",
   "name": "python",
   "nbconvert_exporter": "python",
   "pygments_lexer": "ipython3",
   "version": "3.12.2"
  }
 },
 "nbformat": 4,
 "nbformat_minor": 2
}
