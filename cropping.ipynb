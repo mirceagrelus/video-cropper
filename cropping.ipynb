{
 "cells": [
  {
   "cell_type": "markdown",
   "metadata": {},
   "source": [
    "# Video Cropping\n",
    "\n",
    "Contains 2 sections\n",
    "1. Exploration - where interactively you can pick the correct dimensions for cropping.\n",
    "2. Cropping the video according to the configured dimensions."
   ]
  },
  {
   "cell_type": "code",
   "execution_count": 39,
   "metadata": {},
   "outputs": [],
   "source": [
    "import subprocess"
   ]
  },
  {
   "cell_type": "markdown",
   "metadata": {},
   "source": [
    "**Declare variables**\n",
    "- `input_video` = source video file location\n",
    "- `ouptut_video` = output location for cropped video\n",
    "-  `crop_dimension` = width:height dimension for cropped video. It will be center cropped. Use the `input_video_size_info` command to get info about the width / height size of the `input_video`"
   ]
  },
  {
   "cell_type": "code",
   "execution_count": 40,
   "metadata": {},
   "outputs": [
    {
     "name": "stdout",
     "output_type": "stream",
     "text": [
      "[STREAM]\n",
      "width=4096\n",
      "height=1212\n",
      "[/STREAM]\n"
     ]
    }
   ],
   "source": [
    "# specify input video, and output path\n",
    "input_video = \"./data/RWPro_input.mp4\"\n",
    "ouptut_video = \"./data/RWPro_final.mp4\"\n",
    "\n",
    "# displays width and height dimensions of the input video\n",
    "input_video_size_info = [\n",
    "    'ffprobe', '-v', 'error', '-select_streams', 'v:0',\n",
    "    '-show_entries', 'stream=width,height', input_video\n",
    "]\n",
    "try:\n",
    "    subprocess.run(input_video_size_info, check=True)\n",
    "except:\n",
    "    pass"
   ]
  },
  {
   "cell_type": "markdown",
   "metadata": {},
   "source": [
    "# #1. Exploration\n",
    "\n",
    "### Explore video crop dimensions\n",
    "This will start a player with video cropped to the specified dimemsion.\n",
    "\n",
    "`crop_dimension` format is `WIDTH:HEIGHT`. \n",
    "\n",
    "Tip: keep height same as orignal video and crop width for the general problem of wide video area."
   ]
  },
  {
   "cell_type": "code",
   "execution_count": null,
   "metadata": {},
   "outputs": [],
   "source": [
    "# specify the dimensions to crop to. WIDTH:HEIGHT\n",
    "crop_dimension = \"2000:1212\"\n",
    "\n",
    "explore_crop_dimensions = [\n",
    "    'ffplay', '-i', input_video,\n",
    "    '-vf', f'crop={crop_dimension}'\n",
    "]\n",
    "try:\n",
    "    subprocess.run(explore_crop_dimensions, check=True)\n",
    "except subprocess.CalledProcessError as e:\n",
    "    pass"
   ]
  },
  {
   "cell_type": "markdown",
   "metadata": {},
   "source": [
    "### Explore speaker head dimensions\n",
    "Starts a player where you can test the correct dimensions for the speaker's head."
   ]
  },
  {
   "cell_type": "code",
   "execution_count": null,
   "metadata": {},
   "outputs": [],
   "source": [
    "# specify dimensions for speaker's head. Format: WIDTH:HEIGHT:X:Y\n",
    "# X, Y in graphics coordinates: 0.0 point is top, left.\n",
    "speaker_head_dimensions = \"320:180:3776:0\"\n",
    "\n",
    "explore_speaker_coordinates = [\n",
    "    'ffplay', '-i', input_video,\n",
    "    '-vf', f'crop={speaker_head_dimensions}'\n",
    "]\n",
    "try:\n",
    "    subprocess.run(explore_speaker_coordinates, check=True)\n",
    "except subprocess.CalledProcessError as e:\n",
    "    pass"
   ]
  },
  {
   "cell_type": "markdown",
   "metadata": {},
   "source": [
    "# #2. Create final video. Merge cropped video with speaker's head video.\n",
    "\n",
    "Switch `testing` to `True` to only process just 5 minutes of video.\n",
    "\n",
    "Overlay formats:\n",
    "- `overlay=W-w:0`: top right corner.\n",
    "- `overlay=W-w-10:H-h-10`: bototm right corner with 10px spacing.\n",
    "\n",
    "`W`, `H` - represents width / height of first caption (`cropped`)\n",
    "\n",
    "`w`, `h`- represents width / height of second caption (`face`)"
   ]
  },
  {
   "cell_type": "code",
   "execution_count": null,
   "metadata": {},
   "outputs": [],
   "source": [
    "# testing = True - means only process first 5 minutes of video.\n",
    "testing = False\n",
    "\n",
    "merge_videos_command = [\n",
    "    'ffmpeg', '-y', '-i', input_video, '-filter_complex',\n",
    "    f'[0:v]crop={crop_dimension}[cropped], [0:v]crop={speaker_head_dimensions}[face]; [cropped][face] overlay=W-w:0',\n",
    "    '-c:a', 'copy', ouptut_video\n",
    "    ]\n",
    "\n",
    "if testing:\n",
    "    merge_videos_command.insert(-3, '-t')\n",
    "    merge_videos_command.insert(-3, '300')\n",
    "\n",
    "# print(\" \".join(merge_videos_command))\n",
    "\n",
    "try:\n",
    "    subprocess.run(merge_videos_command, check=True)\n",
    "except subprocess.CalledProcessError as e:\n",
    "    pass"
   ]
  },
  {
   "cell_type": "markdown",
   "metadata": {},
   "source": [
    "---\n",
    "### [Alternative] If you only want to crop the main video, without including the speaker head."
   ]
  },
  {
   "cell_type": "code",
   "execution_count": null,
   "metadata": {},
   "outputs": [],
   "source": [
    "\n",
    "crop_video_command = [\n",
    "    'ffmpeg', '-i', input_video,\n",
    "    '-filter:v', f'crop={crop_dimension}',\n",
    "    '-c:a', 'copy', ouptut_video\n",
    "]\n",
    "try:\n",
    "    subprocess.run(crop_video_command, check=True)\n",
    "except subprocess.CalledProcessError as e:\n",
    "    pass"
   ]
  }
 ],
 "metadata": {
  "kernelspec": {
   "display_name": "base",
   "language": "python",
   "name": "python3"
  },
  "language_info": {
   "codemirror_mode": {
    "name": "ipython",
    "version": 3
   },
   "file_extension": ".py",
   "mimetype": "text/x-python",
   "name": "python",
   "nbconvert_exporter": "python",
   "pygments_lexer": "ipython3",
   "version": "3.12.2"
  }
 },
 "nbformat": 4,
 "nbformat_minor": 2
}
